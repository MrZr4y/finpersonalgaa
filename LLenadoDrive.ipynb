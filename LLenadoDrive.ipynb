{
 "cells": [
  {
   "cell_type": "code",
   "execution_count": null,
   "metadata": {},
   "outputs": [],
   "source": [
    "import os\n",
    "from datetime import datetime\n",
    "import time\n",
    "import pandas as pd\n",
    "from copy import copy\n",
    "from pathlib import Path\n",
    "import re\n",
    "import xlwings as xw\n",
    "import numpy as np\n",
    "import sys\n",
    "import streamlit as st\n",
    "from google.oauth2.credentials import Credentials\n",
    "from googleapiclient.discovery import build\n",
    "from google.oauth2 import service_account\n",
    "from st_combobox import st_combobox\n",
    "from typing import List, Tuple\n"
   ]
  },
  {
   "cell_type": "code",
   "execution_count": null,
   "metadata": {},
   "outputs": [],
   "source": [
    "#connect to google drive, get and write data\n"
   ]
  },
  {
   "cell_type": "code",
   "execution_count": null,
   "metadata": {},
   "outputs": [],
   "source": [
    "SCOPES = ['https://www.googleapis.com/auth/spreadsheets']\n",
    "KEY = 'key.json'\n",
    "# Escribe aquí el ID de tu documento:\n",
    "SPREADSHEET_ID = '1LdjjQh4IX_lGM9iup3FXOeWxqESBIeVwDa27uPoKcVI'\n",
    "RANGE_NAME_GET=\"Fill F!A:O\"\n",
    "\n",
    "creds = None\n",
    "creds = service_account.Credentials.from_service_account_file(KEY, scopes=SCOPES)\n",
    "\n",
    "service = build('sheets', 'v4', credentials=creds)\n",
    "sheet = service.spreadsheets()\n",
    "\n",
    "# Llamada a la api\n",
    "result = (\n",
    "        sheet.values()\n",
    "        .get(spreadsheetId=SPREADSHEET_ID, range=RANGE_NAME_GET)\n",
    "        .execute()\n",
    "    )\n",
    "# Extraemos values del resultado\n",
    "values = result.get('values',[])\n",
    "df=pd.DataFrame(values[1:],columns=values[0])\n",
    "df_fix=df[df[\"Fecha\"] != '']\n",
    "df_index=df_fix.index\n",
    "maxrow=df_index[-1]+3\n"
   ]
  },
  {
   "cell_type": "code",
   "execution_count": null,
   "metadata": {},
   "outputs": [],
   "source": [
    "#display(df_fix)\n"
   ]
  },
  {
   "cell_type": "code",
   "execution_count": null,
   "metadata": {},
   "outputs": [],
   "source": [
    "categorias=(\n",
    "        sheet.values()\n",
    "        .get(spreadsheetId=SPREADSHEET_ID, range='Config!L17:V')\n",
    "        .execute()\n",
    "    ).get('values',[])\n",
    "categorias=pd.DataFrame(categorias[1:],columns=categorias[0])\n"
   ]
  },
  {
   "cell_type": "code",
   "execution_count": null,
   "metadata": {},
   "outputs": [],
   "source": [
    "RANGE_NAME_FILL=f\"Fill F!B{maxrow}\"\n"
   ]
  },
  {
   "cell_type": "code",
   "execution_count": null,
   "metadata": {},
   "outputs": [],
   "source": [
    "def llenar(valores):\n",
    "    filling = service.spreadsheets().values().update(\n",
    "        spreadsheetId=SPREADSHEET_ID,\n",
    "        range=RANGE_NAME_FILL,\n",
    "        valueInputOption='USER_ENTERED',\n",
    "        body={'values': [valores]}\n",
    "    )\n",
    "    return filling.execute()\n"
   ]
  },
  {
   "cell_type": "code",
   "execution_count": null,
   "metadata": {},
   "outputs": [],
   "source": [
    "#streamlit code\n"
   ]
  },
  {
   "cell_type": "code",
   "execution_count": null,
   "metadata": {},
   "outputs": [],
   "source": []
  },
  {
   "cell_type": "code",
   "execution_count": null,
   "metadata": {},
   "outputs": [],
   "source": [
    "fecha = st.date_input('Selecciona una fecha', datetime.now(),format='MM/DD/YYYY',key='fecha')\n",
    "\n",
    "tipo=st.radio('Tipo',['Ingresos','Egresos'],key='tipo')\n",
    "\n",
    "CF=st.toggle('Cashflow')\n",
    "\n",
    "if CF==True:\n",
    "    CF_l='Cashflow'\n",
    "else:\n",
    "    CF_l='Nocashflow'\n",
    "\n",
    "\n",
    "TDC=st.toggle('Tarjeta de Credito')\n",
    "\n",
    "if TDC==True:\n",
    "    TDC_l='Si'\n",
    "else:\n",
    "    TDC_l='No'\n",
    "\n",
    "\n",
    "monto=st.number_input('Monto',min_value=0.00,format='%.2f',key='monto')\n",
    "\n",
    "categoria=st.selectbox('Categoria',categorias.columns,key='cat')\n",
    "\n",
    "subcategoria=st.selectbox('Subcategoria',categorias.loc[~categorias[categoria].isin(['', None]),categoria],key='subcat')\n",
    "\n",
    "selected_option_distrito = st.selectbox('Distrito', df_fix.loc[~df_fix['Distrito'].isin(['', None]),'Distrito'].drop_duplicates( keep='first').tolist() + ['CUSTOM'],key='distr')\n",
    "\n",
    "if selected_option_distrito == 'CUSTOM':\n",
    "    custom = st.text_input('Ingreso el nuevo distrito:')\n",
    "    distrito=custom\n",
    "else:\n",
    "    distrito=selected_option_distrito\n",
    "\n",
    "selected_option_establecimiento = st.selectbox('Establecimiento', df_fix.loc[~df_fix['Establecimiento'].isin(['', None]),'Establecimiento'].drop_duplicates( keep='first').tolist() + ['CUSTOM'],key='establ')\n",
    "\n",
    "if selected_option_establecimiento == 'CUSTOM':\n",
    "    custom = st.text_input('Ingreso el nuevo establecimiento:')\n",
    "    establecimiento=custom\n",
    "else:\n",
    "    establecimiento=selected_option_establecimiento\n",
    "\n",
    "selected_option_item = st.selectbox('Item', df_fix.loc[~df_fix['Item'].isin(['', None]),'Item'].drop_duplicates( keep='first').tolist() + ['CUSTOM'],key='item')\n",
    "\n",
    "if selected_option_item == 'CUSTOM':\n",
    "    custom = st.text_input('Ingreso el nuevo distrito:')\n",
    "    item=custom\n",
    "else:\n",
    "    item=selected_option_item\n",
    "\n",
    "\n",
    "st.write(f'{fecha} {tipo} {CF_l} {TDC_l} {monto} {categoria} {subcategoria} {distrito} {establecimiento} {item}')\n",
    "\n",
    "valores=[fecha.strftime('%d-%b-%Y'),tipo,distrito,establecimiento,categoria,subcategoria,item,monto,CF_l,TDC_l]\n",
    "\n",
    "boton=st.button('FILL', on_click=llenar, args=(valores,))\n",
    "\n",
    "if boton==True:\n",
    "    filling2 = service.spreadsheets().values().update(\n",
    "        spreadsheetId=SPREADSHEET_ID,\n",
    "        range=\"DB F!A2\",\n",
    "        valueInputOption='USER_ENTERED',\n",
    "        body={'values': [\n",
    "            (sheet.values().get(spreadsheetId=SPREADSHEET_ID,range=f'Fill F!A2:O{maxrow}').execute()).get('values',[])\n",
    "        ]}\n",
    "    ).execute()\n"
   ]
  },
  {
   "cell_type": "code",
   "execution_count": null,
   "metadata": {},
   "outputs": [],
   "source": [
    "on = st.toggle('Mostrar ultimos 10 gastos')\n",
    "\n",
    "if on:\n",
    "    st.table(df_fix[-10:])\n",
    "\n",
    "\n"
   ]
  }
 ],
 "metadata": {
  "language_info": {
   "codemirror_mode": {
    "name": "ipython",
    "version": 3
   },
   "file_extension": ".py",
   "mimetype": "text/x-python",
   "name": "python",
   "nbconvert_exporter": "python",
   "pygments_lexer": "ipython3",
   "version": 3
  }
 },
 "nbformat": 4,
 "nbformat_minor": 2
}
